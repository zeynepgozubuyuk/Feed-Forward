{
 "cells": [
  {
   "cell_type": "code",
   "execution_count": 67,
   "id": "c5f5a457",
   "metadata": {},
   "outputs": [],
   "source": [
    "import torch\n",
    "X = torch.tensor([[1, 2, 3], [4, 5, 6]], dtype=torch.float32)"
   ]
  },
  {
   "cell_type": "code",
   "execution_count": 68,
   "id": "2ac6a356",
   "metadata": {},
   "outputs": [
    {
     "data": {
      "text/plain": [
       "<torch._C.Generator at 0x2a797948d30>"
      ]
     },
     "execution_count": 68,
     "metadata": {},
     "output_type": "execute_result"
    }
   ],
   "source": [
    "torch.manual_seed(190401025) "
   ]
  },
  {
   "cell_type": "code",
   "execution_count": 69,
   "id": "b3fbcb41",
   "metadata": {},
   "outputs": [],
   "source": [
    "def sigmoid_activation(x):\n",
    "  return 1 / (1 + torch.exp(-x))"
   ]
  },
  {
   "cell_type": "code",
   "execution_count": 70,
   "id": "6f2c5ff2",
   "metadata": {},
   "outputs": [],
   "source": [
    "def tanh_activation(x):\n",
    "    return (torch.exp(x) - torch.exp(-x))/(torch.exp(x) + torch.exp(-x))"
   ]
  },
  {
   "cell_type": "code",
   "execution_count": 71,
   "id": "ad8a06c1",
   "metadata": {},
   "outputs": [],
   "source": [
    "class FeedForward(torch.nn.Module):\n",
    "    def __init__(self):\n",
    "        super(FeedForward, self).__init__()\n",
    "        self.fc1 = torch.nn.Linear(3, 50)\n",
    "        self.fc2 = torch.nn.Linear(50, 1)\n",
    "    \n",
    "    def forward(self, x):\n",
    "        x = self.fc1(x)\n",
    "        x = tanh_activation(x)\n",
    "        x = self.fc2(x)\n",
    "        x = sigmoid_activation(x)\n",
    "        return x\n",
    "model = FeedForward()"
   ]
  },
  {
   "cell_type": "code",
   "execution_count": 73,
   "id": "38e7e0b8",
   "metadata": {},
   "outputs": [
    {
     "data": {
      "text/plain": [
       "tensor([[0.4285],\n",
       "        [0.4495]], grad_fn=<MulBackward0>)"
      ]
     },
     "execution_count": 73,
     "metadata": {},
     "output_type": "execute_result"
    }
   ],
   "source": [
    "out = model(X)\n",
    "out"
   ]
  }
 ],
 "metadata": {
  "kernelspec": {
   "display_name": "Python 3 (ipykernel)",
   "language": "python",
   "name": "python3"
  },
  "language_info": {
   "codemirror_mode": {
    "name": "ipython",
    "version": 3
   },
   "file_extension": ".py",
   "mimetype": "text/x-python",
   "name": "python",
   "nbconvert_exporter": "python",
   "pygments_lexer": "ipython3",
   "version": "3.11.3"
  }
 },
 "nbformat": 4,
 "nbformat_minor": 5
}
